{
 "cells": [
  {
   "cell_type": "code",
   "execution_count": null,
   "id": "eb1c2d68",
   "metadata": {},
   "outputs": [],
   "source": []
  }
 ],
 "metadata": {
  "language_info": {
   "name": "python"
  }
 },
 "nbformat": 4,
 "nbformat_minor": 5
}
